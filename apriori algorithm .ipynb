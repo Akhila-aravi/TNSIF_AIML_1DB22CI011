{
 "cells": [
  {
   "cell_type": "code",
   "execution_count": 1,
   "id": "cb585d15-22a4-4386-aa05-9df54327fb35",
   "metadata": {},
   "outputs": [],
   "source": [
    "import numpy as np"
   ]
  },
  {
   "cell_type": "code",
   "execution_count": 2,
   "id": "e0139dd1-58c0-4aae-adef-eec7ed20b24a",
   "metadata": {},
   "outputs": [],
   "source": [
    "import pandas as pd"
   ]
  },
  {
   "cell_type": "code",
   "execution_count": 4,
   "id": "487d8e25-7f48-4078-a7bb-147066a3072d",
   "metadata": {},
   "outputs": [],
   "source": [
    "dataset = [\n",
    "    ['Coffee', 'Donut', 'Sandwich'],\n",
    "    ['Coffee', 'Donut'],\n",
    "    ['Coffee', 'Sandwich'],\n",
    "    ['Coffee', 'Muffin'],\n",
    "    ['Donut', 'Muffin']\n",
    "]\n"
   ]
  },
  {
   "cell_type": "code",
   "execution_count": 6,
   "id": "26a5ea07-f843-452c-8f59-28f60de8d9e5",
   "metadata": {},
   "outputs": [
    {
     "data": {
      "text/html": [
       "<div>\n",
       "<style scoped>\n",
       "    .dataframe tbody tr th:only-of-type {\n",
       "        vertical-align: middle;\n",
       "    }\n",
       "\n",
       "    .dataframe tbody tr th {\n",
       "        vertical-align: top;\n",
       "    }\n",
       "\n",
       "    .dataframe thead th {\n",
       "        text-align: right;\n",
       "    }\n",
       "</style>\n",
       "<table border=\"1\" class=\"dataframe\">\n",
       "  <thead>\n",
       "    <tr style=\"text-align: right;\">\n",
       "      <th></th>\n",
       "      <th>0</th>\n",
       "      <th>1</th>\n",
       "      <th>2</th>\n",
       "    </tr>\n",
       "  </thead>\n",
       "  <tbody>\n",
       "    <tr>\n",
       "      <th>0</th>\n",
       "      <td>Coffee</td>\n",
       "      <td>Donut</td>\n",
       "      <td>Sandwich</td>\n",
       "    </tr>\n",
       "    <tr>\n",
       "      <th>1</th>\n",
       "      <td>Coffee</td>\n",
       "      <td>Donut</td>\n",
       "      <td>None</td>\n",
       "    </tr>\n",
       "    <tr>\n",
       "      <th>2</th>\n",
       "      <td>Coffee</td>\n",
       "      <td>Sandwich</td>\n",
       "      <td>None</td>\n",
       "    </tr>\n",
       "    <tr>\n",
       "      <th>3</th>\n",
       "      <td>Coffee</td>\n",
       "      <td>Muffin</td>\n",
       "      <td>None</td>\n",
       "    </tr>\n",
       "    <tr>\n",
       "      <th>4</th>\n",
       "      <td>Donut</td>\n",
       "      <td>Muffin</td>\n",
       "      <td>None</td>\n",
       "    </tr>\n",
       "  </tbody>\n",
       "</table>\n",
       "</div>"
      ],
      "text/plain": [
       "        0         1         2\n",
       "0  Coffee     Donut  Sandwich\n",
       "1  Coffee     Donut      None\n",
       "2  Coffee  Sandwich      None\n",
       "3  Coffee    Muffin      None\n",
       "4   Donut    Muffin      None"
      ]
     },
     "execution_count": 6,
     "metadata": {},
     "output_type": "execute_result"
    }
   ],
   "source": [
    "df=pd.DataFrame(dataset)\n",
    "df"
   ]
  },
  {
   "cell_type": "code",
   "execution_count": 7,
   "id": "309e7a79-b845-4454-8c81-77a75511a206",
   "metadata": {},
   "outputs": [
    {
     "name": "stdout",
     "output_type": "stream",
     "text": [
      "   Coffee  Donut  Muffin  Sandwich\n",
      "0       1      1       0         1\n",
      "1       1      1       0         0\n",
      "2       1      0       0         1\n",
      "3       1      0       1         0\n",
      "4       0      1       1         0\n"
     ]
    }
   ],
   "source": [
    "items = sorted(set([item for transaction in dataset for item in transaction]))\n",
    "\n",
    "# Create a one-hot encoded DataFrame\n",
    "data = []\n",
    "for transaction in dataset:\n",
    "    row = [1 if item in transaction else 0 for item in items]\n",
    "    data.append(row)\n",
    "\n",
    "df = pd.DataFrame(data, columns=items)\n",
    "print(df)\n"
   ]
  },
  {
   "cell_type": "code",
   "execution_count": 18,
   "id": "0e00c821-f038-412d-b042-cefd66262c86",
   "metadata": {},
   "outputs": [
    {
     "name": "stdout",
     "output_type": "stream",
     "text": [
      "   support            itemsets\n",
      "0      0.8            (Coffee)\n",
      "1      0.6             (Donut)\n",
      "2      0.4            (Muffin)\n",
      "3      0.4          (Sandwich)\n",
      "4      0.4     (Coffee, Donut)\n",
      "5      0.4  (Coffee, Sandwich)\n"
     ]
    },
    {
     "name": "stderr",
     "output_type": "stream",
     "text": [
      "C:\\ProgramData\\anaconda3\\Lib\\site-packages\\mlxtend\\frequent_patterns\\fpcommon.py:161: DeprecationWarning: DataFrames with non-bool types result in worse computationalperformance and their support might be discontinued in the future.Please use a DataFrame with bool type\n",
      "  warnings.warn(\n"
     ]
    }
   ],
   "source": [
    "\n",
    "from mlxtend.frequent_patterns import apriori\n",
    "frq_itemset=apriori(df,min_support=0.4, use_colnames=True)\n",
    "print(frq_itemset)"
   ]
  },
  {
   "cell_type": "code",
   "execution_count": 19,
   "id": "3f0d5b16-87df-4f66-aede-5bc575c157a3",
   "metadata": {},
   "outputs": [
    {
     "name": "stdout",
     "output_type": "stream",
     "text": [
      "  antecedents consequents  support  confidence      lift\n",
      "0    (Coffee)     (Donut)      0.4    0.500000  0.833333\n",
      "1     (Donut)    (Coffee)      0.4    0.666667  0.833333\n",
      "2    (Coffee)  (Sandwich)      0.4    0.500000  1.250000\n",
      "3  (Sandwich)    (Coffee)      0.4    1.000000  1.250000\n"
     ]
    }
   ],
   "source": [
    "from mlxtend.frequent_patterns import association_rules\n",
    "\n",
    "# frq_itemset is the output from apriori\n",
    "rules = association_rules(frq_itemset, metric=\"support\", min_threshold=0)\n",
    "\n",
    "# Show all rules with their support, confidence, and lift\n",
    "print(rules[['antecedents', 'consequents', 'support', 'confidence', 'lift']])"
   ]
  },
  {
   "cell_type": "code",
   "execution_count": 21,
   "id": "9d11b5cb-f560-4ab4-a4c7-db713fa371e8",
   "metadata": {},
   "outputs": [
    {
     "name": "stdout",
     "output_type": "stream",
     "text": [
      "  antecedents consequents  support  confidence      lift\n",
      "0     (Donut)    (Coffee)      0.4    0.666667  0.833333\n",
      "1  (Sandwich)    (Coffee)      0.4    1.000000  1.250000\n"
     ]
    }
   ],
   "source": [
    "rules = association_rules(frq_itemset, metric=\"confidence\", min_threshold=0.6)\n",
    "filtered_rules=rules[rules['support']>=0.4]\n",
    "print(filtered_rules[['antecedents', 'consequents', 'support', 'confidence', 'lift']])"
   ]
  },
  {
   "cell_type": "code",
   "execution_count": 22,
   "id": "6fba0474-ed29-46c4-b6b1-2335ef8dfcb8",
   "metadata": {},
   "outputs": [
    {
     "name": "stdout",
     "output_type": "stream",
     "text": [
      "  antecedents consequents  support  confidence      lift\n",
      "0     (Donut)    (Coffee)      0.4    0.666667  0.833333\n",
      "1  (Sandwich)    (Coffee)      0.4    1.000000  1.250000\n",
      "If a customer buys Donut, they are likely to buy Coffee.\n"
     ]
    }
   ],
   "source": [
    "strong_rules = rules[rules['support'] >= 0.4]\n",
    "\n",
    "# See all strong rules\n",
    "print(strong_rules[['antecedents', 'consequents', 'support', 'confidence', 'lift']])\n",
    "\n",
    "# Interpret one strong rule\n",
    "for _, row in strong_rules.iterrows():\n",
    "    antecedents = ', '.join(list(row['antecedents']))\n",
    "    consequents = ', '.join(list(row['consequents']))\n",
    "    print(f\"If a customer buys {antecedents}, they are likely to buy {consequents}.\")\n",
    "    break  # Only print one interpretation"
   ]
  },
  {
   "cell_type": "code",
   "execution_count": 23,
   "id": "d6ad67e5-d365-45c0-9608-7a9bd9c0a8b1",
   "metadata": {},
   "outputs": [
    {
     "name": "stdout",
     "output_type": "stream",
     "text": [
      "Min support = 0.2: 3 rules\n",
      "Min support = 0.4: 2 rules\n",
      "Min support = 0.6: 0 rules\n",
      "Min confidence = 0.5: 4 rules\n",
      "Min confidence = 0.6: 2 rules\n",
      "Min confidence = 0.8: 1 rules\n"
     ]
    },
    {
     "name": "stderr",
     "output_type": "stream",
     "text": [
      "C:\\ProgramData\\anaconda3\\Lib\\site-packages\\mlxtend\\frequent_patterns\\fpcommon.py:161: DeprecationWarning: DataFrames with non-bool types result in worse computationalperformance and their support might be discontinued in the future.Please use a DataFrame with bool type\n",
      "  warnings.warn(\n",
      "C:\\ProgramData\\anaconda3\\Lib\\site-packages\\mlxtend\\frequent_patterns\\fpcommon.py:161: DeprecationWarning: DataFrames with non-bool types result in worse computationalperformance and their support might be discontinued in the future.Please use a DataFrame with bool type\n",
      "  warnings.warn(\n",
      "C:\\ProgramData\\anaconda3\\Lib\\site-packages\\mlxtend\\frequent_patterns\\fpcommon.py:161: DeprecationWarning: DataFrames with non-bool types result in worse computationalperformance and their support might be discontinued in the future.Please use a DataFrame with bool type\n",
      "  warnings.warn(\n",
      "C:\\ProgramData\\anaconda3\\Lib\\site-packages\\mlxtend\\frequent_patterns\\fpcommon.py:161: DeprecationWarning: DataFrames with non-bool types result in worse computationalperformance and their support might be discontinued in the future.Please use a DataFrame with bool type\n",
      "  warnings.warn(\n"
     ]
    }
   ],
   "source": [
    "from mlxtend.frequent_patterns import association_rules\n",
    "\n",
    "# Try different minimum support values\n",
    "for min_sup in [0.2, 0.4, 0.6]:\n",
    "    frq_itemset = apriori(df, min_support=min_sup, use_colnames=True)\n",
    "    rules = association_rules(frq_itemset, metric='confidence', min_threshold=0.6)\n",
    "    print(f\"Min support = {min_sup}: {len(rules)} rules\")\n",
    "\n",
    "# Try different minimum confidence values\n",
    "frq_itemset = apriori(df, min_support=0.4, use_colnames=True)\n",
    "for min_conf in [0.5, 0.6, 0.8]:\n",
    "    rules = association_rules(frq_itemset, metric='confidence', min_threshold=min_conf)\n",
    "    print(f\"Min confidence = {min_conf}: {len(rules)} rules\")"
   ]
  },
  {
   "cell_type": "code",
   "execution_count": null,
   "id": "5a40cbb2-007a-4943-b616-0fc25def39db",
   "metadata": {},
   "outputs": [],
   "source": [
    "#items are bought together more often than random chance. So, a rule with lift greater than one shows a real and useful connection between those items"
   ]
  }
 ],
 "metadata": {
  "kernelspec": {
   "display_name": "Python 3 (ipykernel)",
   "language": "python",
   "name": "python3"
  },
  "language_info": {
   "codemirror_mode": {
    "name": "ipython",
    "version": 3
   },
   "file_extension": ".py",
   "mimetype": "text/x-python",
   "name": "python",
   "nbconvert_exporter": "python",
   "pygments_lexer": "ipython3",
   "version": "3.13.5"
  }
 },
 "nbformat": 4,
 "nbformat_minor": 5
}
