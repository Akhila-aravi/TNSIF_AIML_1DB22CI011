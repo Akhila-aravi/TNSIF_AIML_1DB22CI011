{
 "cells": [
  {
   "cell_type": "code",
   "execution_count": 1,
   "id": "8142b88a-87c2-41e3-964a-400b05a52c4d",
   "metadata": {},
   "outputs": [
    {
     "name": "stdin",
     "output_type": "stream",
     "text": [
      "Enter the number of employees:  3\n",
      "Enter salary of employee 1:  300000\n",
      "Enter salary of employee 2:  200000\n",
      "Enter salary of employee 3:  100000\n"
     ]
    },
    {
     "name": "stdout",
     "output_type": "stream",
     "text": [
      "Minimum salary: 100000\n",
      "Maximum salary: 300000\n"
     ]
    }
   ],
   "source": [
    "n = int(input(\"Enter the number of employees: \"))\n",
    "\n",
    "salaries = []\n",
    "for i in range(n):\n",
    "    salary = (input(f\"Enter salary of employee {i+1}: \"))\n",
    "    salaries.append(salary)\n",
    "    \n",
    "min_salary = min(salaries)\n",
    "max_salary = max(salaries)\n",
    "print(\"Minimum salary:\", min_salary)\n",
    "print(\"Maximum salary:\", max_salary)"
   ]
  },
  {
   "cell_type": "code",
   "execution_count": 2,
   "id": "38142f6b-1636-45bc-844f-c2b256fa38c8",
   "metadata": {},
   "outputs": [
    {
     "name": "stdout",
     "output_type": "stream",
     "text": [
      "('PYTHON',)\n",
      "1\n",
      "4\n",
      "(10, 20, 30, 10, 20, 30)\n"
     ]
    }
   ],
   "source": [
    "t=tuple()\n",
    "t=t+(\"PYTHON\",)\n",
    "print(t)\n",
    "print(len(t))\n",
    "tl=(10,20,30)\n",
    "t2=tl+t\n",
    "print(len(t2))\n",
    "t3=tl*2\n",
    "print(t3)"
   ]
  },
  {
   "cell_type": "code",
   "execution_count": 6,
   "id": "3d3f48fc-52bf-4484-aed1-aab4c96729a6",
   "metadata": {},
   "outputs": [
    {
     "name": "stdin",
     "output_type": "stream",
     "text": [
      "Enter number of employees:  2\n",
      "Enter employee name:  ari\n",
      "Enter employee number:  1\n",
      "Enter employee name:  ammu\n",
      "Enter employee number:  4\n"
     ]
    },
    {
     "name": "stdout",
     "output_type": "stream",
     "text": [
      "\n",
      "Employee Dictionary:\n",
      "{'ari': '1', 'ammu': '4'}\n"
     ]
    }
   ],
   "source": [
    "employees = {}\n",
    "n = int(input(\"Enter number of employees: \"))\n",
    "for i in range(n):\n",
    "    name = input(\"Enter employee name: \")\n",
    "    number = input(\"Enter employee number: \")\n",
    "    employees[name] = number\n",
    "\n",
    "print(\"\\nEmployee Dictionary:\")\n",
    "print(employees)\n"
   ]
  },
  {
   "cell_type": "code",
   "execution_count": 7,
   "id": "6d7e751e-84e6-42e9-8473-3684cd4d66b8",
   "metadata": {},
   "outputs": [
    {
     "name": "stdout",
     "output_type": "stream",
     "text": [
      "('ram', 1, 1223)\n"
     ]
    }
   ],
   "source": [
    "tup1=('ram',1,1223)\n",
    "print(tup1) "
   ]
  },
  {
   "cell_type": "code",
   "execution_count": 8,
   "id": "96a1c44f-5fa4-42f7-906e-dfb32a391a2c",
   "metadata": {},
   "outputs": [
    {
     "name": "stdout",
     "output_type": "stream",
     "text": [
      "('ram',)\n",
      "<class 'tuple'>\n"
     ]
    }
   ],
   "source": [
    "tup1=('ram',)\n",
    "print(tup1)\n",
    "print(type(tup1))"
   ]
  },
  {
   "cell_type": "code",
   "execution_count": 9,
   "id": "8bf5bfa8-3f38-49c9-8d31-3a252aebd36a",
   "metadata": {},
   "outputs": [
    {
     "name": "stdout",
     "output_type": "stream",
     "text": [
      "<class 'str'>\n"
     ]
    }
   ],
   "source": [
    "tup=('ram')\n",
    "print(type(tup))\n"
   ]
  },
  {
   "cell_type": "code",
   "execution_count": null,
   "id": "a02ae866-e431-4690-bf70-06a4ec465d8d",
   "metadata": {},
   "outputs": [],
   "source": []
  }
 ],
 "metadata": {
  "kernelspec": {
   "display_name": "Python 3 (ipykernel)",
   "language": "python",
   "name": "python3"
  },
  "language_info": {
   "codemirror_mode": {
    "name": "ipython",
    "version": 3
   },
   "file_extension": ".py",
   "mimetype": "text/x-python",
   "name": "python",
   "nbconvert_exporter": "python",
   "pygments_lexer": "ipython3",
   "version": "3.12.7"
  }
 },
 "nbformat": 4,
 "nbformat_minor": 5
}
