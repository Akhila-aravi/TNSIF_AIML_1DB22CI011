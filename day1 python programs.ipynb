{
 "cells": [
  {
   "cell_type": "code",
   "execution_count": 1,
   "id": "01e9c245-3fd1-4d0d-a600-d1ccb3b93026",
   "metadata": {},
   "outputs": [
    {
     "name": "stdin",
     "output_type": "stream",
     "text": [
      "Enter PIN:  2345\n"
     ]
    },
    {
     "name": "stdout",
     "output_type": "stream",
     "text": [
      "Wrong PIN\n"
     ]
    },
    {
     "name": "stdin",
     "output_type": "stream",
     "text": [
      "Enter PIN:  3456\n"
     ]
    },
    {
     "name": "stdout",
     "output_type": "stream",
     "text": [
      "Wrong PIN\n"
     ]
    },
    {
     "name": "stdin",
     "output_type": "stream",
     "text": [
      "Enter PIN:  467\n"
     ]
    },
    {
     "name": "stdout",
     "output_type": "stream",
     "text": [
      "Wrong PIN\n",
      "Too many wrong attempts\n"
     ]
    }
   ],
   "source": [
    "###### ATM Simulation\n",
    "pin = \"1234\"\n",
    "balance = 5000\n",
    "\n",
    "for i in range(3):\n",
    "    entered = input(\"Enter PIN: \")\n",
    "    if entered == pin:\n",
    "        print(\"\\n1. Check Balance\\n2. Deposit\\n3. Withdraw\")\n",
    "        choice = input(\"Choose (1/2/3): \")\n",
    "        \n",
    "        if choice == \"1\":\n",
    "            print(\"Balance:\", balance)\n",
    "        elif choice == \"2\":\n",
    "            amt = int(input(\"Deposit amount: \"))\n",
    "            balance += amt\n",
    "            print(\"New Balance:\", balance)\n",
    "        elif choice == \"3\":\n",
    "            amt = int(input(\"Withdraw amount: \"))\n",
    "            balance -= amt\n",
    "            print(\"New Balance:\", balance)\n",
    "            \n",
    "        else:\n",
    "            print(\"Invalid choice\")\n",
    "        break\n",
    "    else:\n",
    "        print(\"Wrong PIN\")\n",
    "\n",
    "else:\n",
    "    print(\"Too many wrong attempts\")\n"
   ]
  },
  {
   "cell_type": "code",
   "execution_count": null,
   "id": "dd88cbe2-e7d2-40e5-b45f-3d534506d99c",
   "metadata": {},
   "outputs": [],
   "source": []
  },
  {
   "cell_type": "code",
   "execution_count": null,
   "id": "22432d7e-b129-480c-9fe8-06d83a7dcdf3",
   "metadata": {},
   "outputs": [],
   "source": []
  }
 ],
 "metadata": {
  "kernelspec": {
   "display_name": "Python 3 (ipykernel)",
   "language": "python",
   "name": "python3"
  },
  "language_info": {
   "codemirror_mode": {
    "name": "ipython",
    "version": 3
   },
   "file_extension": ".py",
   "mimetype": "text/x-python",
   "name": "python",
   "nbconvert_exporter": "python",
   "pygments_lexer": "ipython3",
   "version": "3.12.7"
  }
 },
 "nbformat": 4,
 "nbformat_minor": 5
}
