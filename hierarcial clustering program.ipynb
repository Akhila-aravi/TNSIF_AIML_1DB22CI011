{
 "cells": [
  {
   "cell_type": "code",
   "execution_count": 6,
   "id": "2fd3677b-0d07-4719-a855-48d028b4be6f",
   "metadata": {},
   "outputs": [],
   "source": [
    "import numpy as np\n",
    "import pandas as pd\n"
   ]
  },
  {
   "cell_type": "code",
   "execution_count": 7,
   "id": "a4e173a4-bfb7-44d0-938c-0b24c247a983",
   "metadata": {},
   "outputs": [
    {
     "name": "stdout",
     "output_type": "stream",
     "text": [
      "   CustomerID  Annual Income  Spending Score\n",
      "0           1             15              39\n",
      "1           2             16              81\n",
      "2           3             17               6\n",
      "3           4             18              77\n",
      "4           5             19              40\n",
      "5           6             20              76\n",
      "6           7             21               6\n",
      "7           8             22              94\n",
      "8           9             23               3\n",
      "9          10             24              72\n"
     ]
    }
   ],
   "source": [
    "data={\n",
    "'CustomerID':[1,2,3,4,5,6,7,8,9,10],\n",
    "    'Annual Income':[15,16,17,18,19,20,21,22,23,24],\n",
    "    'Spending Score':[39,81,6,77,40,76,6,94,3,72]}\n",
    "#display(data)\n",
    "df=pd.DataFrame(data)\n",
    "print(df)\n"
   ]
  },
  {
   "cell_type": "code",
   "execution_count": 8,
   "id": "e1234a3d-526d-4099-bfa2-7ae2296d29f5",
   "metadata": {},
   "outputs": [],
   "source": [
    "features = df[['Annual Income', 'Spending Score']]"
   ]
  },
  {
   "cell_type": "code",
   "execution_count": 9,
   "id": "c2dbc56d-1432-48df-8cae-58cc320509be",
   "metadata": {},
   "outputs": [
    {
     "data": {
      "image/png": "[encoded data removed]",
      "text/plain": [
       "<Figure size 640x480 with 1 Axes>"
      ]
     },
     "metadata": {},
     "output_type": "display_data"
    }
   ],
   "source": [
    "import scipy.cluster.hierarchy as sch\n",
    "import matplotlib.pyplot as plt\n",
    "dendrogram = sch.dendrogram(sch.linkage(features, method='ward'))\n",
    "plt.title('Dendrogram')\n",
    "plt.show()"
   ]
  },
  {
   "cell_type": "code",
   "execution_count": 10,
   "id": "a4d67665-75e5-4ba8-bc0f-e71c8f15adce",
   "metadata": {},
   "outputs": [
    {
     "name": "stdout",
     "output_type": "stream",
     "text": [
      "   CustomerID  Annual Income  Spending Score  Cluster\n",
      "0           1             15              39        2\n",
      "1           2             16              81        0\n",
      "2           3             17               6        1\n",
      "3           4             18              77        0\n",
      "4           5             19              40        2\n",
      "5           6             20              76        0\n",
      "6           7             21               6        1\n",
      "7           8             22              94        0\n",
      "8           9             23               3        1\n",
      "9          10             24              72        0\n"
     ]
    }
   ],
   "source": [
    "from sklearn.cluster import AgglomerativeClustering\n",
    "cluster = AgglomerativeClustering(n_clusters=3, metric='euclidean', linkage='ward')\n",
    "df['Cluster'] = cluster.fit_predict(features)\n",
    "print(df)"
   ]
  },
  {
   "cell_type": "code",
   "execution_count": null,
   "id": "7521f446-a0ee-455c-aa22-68cb96ff6201",
   "metadata": {},
   "outputs": [],
   "source": [
    "# optimal no of clusters=3\n",
    "#ward-sinkagle:to find the distance b/w clusters\n"
   ]
  },
  {
   "cell_type": "code",
   "execution_count": 12,
   "id": "8c58ffa2-e551-4331-afcc-2b95d64e11d9",
   "metadata": {},
   "outputs": [
    {
     "name": "stdout",
     "output_type": "stream",
     "text": [
      "\n",
      "Cluster 0 Summary:\n",
      "       Annual Income  Spending Score\n",
      "count       5.000000        5.000000\n",
      "mean       20.000000       80.000000\n",
      "std         3.162278        8.455767\n",
      "min        16.000000       72.000000\n",
      "25%        18.000000       76.000000\n",
      "50%        20.000000       77.000000\n",
      "75%        22.000000       81.000000\n",
      "max        24.000000       94.000000\n",
      "\n",
      "Cluster 1 Summary:\n",
      "       Annual Income  Spending Score\n",
      "count       3.000000        3.000000\n",
      "mean       20.333333        5.000000\n",
      "std         3.055050        1.732051\n",
      "min        17.000000        3.000000\n",
      "25%        19.000000        4.500000\n",
      "50%        21.000000        6.000000\n",
      "75%        22.000000        6.000000\n",
      "max        23.000000        6.000000\n",
      "\n",
      "Cluster 2 Summary:\n",
      "       Annual Income  Spending Score\n",
      "count       2.000000        2.000000\n",
      "mean       17.000000       39.500000\n",
      "std         2.828427        0.707107\n",
      "min        15.000000       39.000000\n",
      "25%        16.000000       39.250000\n",
      "50%        17.000000       39.500000\n",
      "75%        18.000000       39.750000\n",
      "max        19.000000       40.000000\n"
     ]
    }
   ],
   "source": [
    "#interpretation\n",
    "for cluster in sorted(df['Cluster'].unique()):\n",
    "    group=df[df['Cluster']==cluster]\n",
    "    print(f\"\\nCluster {cluster} Summary:\")\n",
    "    print(group[['Annual Income','Spending Score']].describe())\n"
   ]
  },
  {
   "cell_type": "code",
   "execution_count": null,
   "id": "217e6084-2331-45b0-8413-e946ab1caf5a",
   "metadata": {},
   "outputs": [],
   "source": []
  }
 ],
 "metadata": {
  "kernelspec": {
   "display_name": "Python 3 (ipykernel)",
   "language": "python",
   "name": "python3"
  },
  "language_info": {
   "codemirror_mode": {
    "name": "ipython",
    "version": 3
   },
   "file_extension": ".py",
   "mimetype": "text/x-python",
   "name": "python",
   "nbconvert_exporter": "python",
   "pygments_lexer": "ipython3",
   "version": "3.13.5"
  }
 },
 "nbformat": 4,
 "nbformat_minor": 5
}
