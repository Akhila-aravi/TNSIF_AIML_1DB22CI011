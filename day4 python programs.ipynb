{
 "cells": [
  {
   "cell_type": "code",
   "execution_count": 1,
   "id": "8e0ea8a1-b971-4a68-92eb-1b2bfda48973",
   "metadata": {},
   "outputs": [
    {
     "name": "stdout",
     "output_type": "stream",
     "text": [
      "{'Harry': 8796543908, 'Sima': 9888765490, 'Rita': 6779765312}\n"
     ]
    },
    {
     "name": "stdin",
     "output_type": "stream",
     "text": [
      "Enter the name to be modified Harry\n",
      "Enter modified number 7865439087\n"
     ]
    },
    {
     "name": "stdout",
     "output_type": "stream",
     "text": [
      "Modified successfully\n",
      "{'Harry': '7865439087', 'Sima': 9888765490, 'Rita': 6779765312}\n"
     ]
    }
   ],
   "source": [
    "phonebook={\"Harry\":8796543908,\"Sima\":9888765490,\"Rita\":6779765312}\n",
    "print(phonebook)\n",
    "name=input(\"Enter the name to be modified\")\n",
    "if name in phonebook:\n",
    "    newnum=input(\"Enter modified number\")\n",
    "    phonebook[name] = newnum\n",
    "    print(\"Modified successfully\")\n",
    "    print(phonebook)\n",
    "else:\n",
    "    print(name, \"was not found.\")"
   ]
  },
  {
   "cell_type": "code",
   "execution_count": 2,
   "id": "3c82ec41-6e6d-4e71-a85a-cc1cfb81c0de",
   "metadata": {},
   "outputs": [
    {
     "name": "stdout",
     "output_type": "stream",
     "text": [
      "{'Harry': 8796543908, 'Sima': 9888765490, 'Rita': 6779765312}\n",
      "{'Harry': 9807646889, 'Sima': 9888765490, 'Rita': 6779765312}\n",
      "{'Harry': 9807646889, 'Sima': 9888765490, 'Rita': 6779765312, 'Amir': 8976543210}\n"
     ]
    }
   ],
   "source": [
    "#Add Amir and his nuumber..Key value pair to be added\n",
    "phonebook={\"Harry\":8796543908,\"Sima\":9888765490,\"Rita\":6779765312}\n",
    "print(phonebook)\n",
    "phonebook[\"Harry\"]=9807646889\n",
    "print(phonebook)\n",
    "phonebook.update({\"Amir\":8976543210})\n",
    "print(phonebook)"
   ]
  },
  {
   "cell_type": "code",
   "execution_count": 3,
   "id": "ac969df9-5a62-4289-91d5-3e31198aa201",
   "metadata": {},
   "outputs": [
    {
     "name": "stdout",
     "output_type": "stream",
     "text": [
      "{'Harry': 8796543908, 'Sima': 9888765490, 'Rita': 6779765312}\n"
     ]
    },
    {
     "name": "stdin",
     "output_type": "stream",
     "text": [
      "Enter the name to be modified Harry\n"
     ]
    },
    {
     "name": "stdout",
     "output_type": "stream",
     "text": [
      "Deleted successfully\n",
      "{'Sima': 9888765490, 'Rita': 6779765312}\n"
     ]
    }
   ],
   "source": [
    "#Deleting Key value pair\n",
    "phonebook={\"Harry\":8796543908,\"Sima\":9888765490,\"Rita\":6779765312}\n",
    "print(phonebook)\n",
    "name=input(\"Enter the name to be modified\")\n",
    "if name in phonebook:\n",
    "    del phonebook[name]\n",
    "    print(\"Deleted successfully\")\n",
    "    print(phonebook)\n",
    "else:\n",
    "    print(name, \"was not found\")\n"
   ]
  },
  {
   "cell_type": "code",
   "execution_count": 1,
   "id": "19c5a9cb-6b43-46ea-a180-6acb16bfb547",
   "metadata": {},
   "outputs": [
    {
     "name": "stdout",
     "output_type": "stream",
     "text": [
      "{'Harry': 8796543908, 'Sima': 9888765490, 'Rita': 6779765312}\n"
     ]
    }
   ],
   "source": [
    "phonebook={\"Harry\":8796543908,\"Sima\":9888765490,\"Rita\":6779765312}\n",
    "print(phonebook)"
   ]
  },
  {
   "cell_type": "code",
   "execution_count": 2,
   "id": "5b68276c-105e-493e-ba8c-8b18bacf1014",
   "metadata": {},
   "outputs": [
    {
     "data": {
      "text/plain": [
       "3"
      ]
     },
     "execution_count": 2,
     "metadata": {},
     "output_type": "execute_result"
    }
   ],
   "source": [
    "len(phonebook)"
   ]
  },
  {
   "cell_type": "code",
   "execution_count": 3,
   "id": "58425d27-b42b-41b5-9da4-922c33cdb37c",
   "metadata": {},
   "outputs": [
    {
     "data": {
      "text/plain": [
       "\"{'Harry': 8796543908, 'Sima': 9888765490, 'Rita': 6779765312}\""
      ]
     },
     "execution_count": 3,
     "metadata": {},
     "output_type": "execute_result"
    }
   ],
   "source": [
    "str(phonebook)"
   ]
  },
  {
   "cell_type": "code",
   "execution_count": 4,
   "id": "f1713e85-54a5-4710-a87c-539497a541d1",
   "metadata": {},
   "outputs": [
    {
     "name": "stdout",
     "output_type": "stream",
     "text": [
      "{}\n"
     ]
    }
   ],
   "source": [
    "phonebook.clear()\n",
    "print(phonebook)"
   ]
  },
  {
   "cell_type": "code",
   "execution_count": 5,
   "id": "0bd640e9-e2ad-426e-89e7-bc1b73e68da5",
   "metadata": {},
   "outputs": [
    {
     "name": "stdout",
     "output_type": "stream",
     "text": [
      "{'Harry': 8796543908, 'Sima': 9888765490, 'Rita': 6779765312}\n"
     ]
    }
   ],
   "source": [
    "phonebook={\"Harry\":8796543908,\"Sima\":9888765490,\"Rita\":6779765312}\n",
    "print(phonebook)"
   ]
  },
  {
   "cell_type": "code",
   "execution_count": 6,
   "id": "c1ea16f6-3089-4c08-99d3-8d26766ed4df",
   "metadata": {},
   "outputs": [
    {
     "data": {
      "text/plain": [
       "dict_keys(['Harry', 'Sima', 'Rita'])"
      ]
     },
     "execution_count": 6,
     "metadata": {},
     "output_type": "execute_result"
    }
   ],
   "source": [
    "phonebook.keys()"
   ]
  },
  {
   "cell_type": "code",
   "execution_count": 7,
   "id": "84d092e2-c0cf-4543-af98-a5de3d1a7a01",
   "metadata": {},
   "outputs": [
    {
     "data": {
      "text/plain": [
       "dict_values([8796543908, 9888765490, 6779765312])"
      ]
     },
     "execution_count": 7,
     "metadata": {},
     "output_type": "execute_result"
    }
   ],
   "source": [
    "phonebook.values()"
   ]
  },
  {
   "cell_type": "code",
   "execution_count": null,
   "id": "2882ab62-0384-480c-a9af-0f5a04f293fc",
   "metadata": {},
   "outputs": [],
   "source": []
  }
 ],
 "metadata": {
  "kernelspec": {
   "display_name": "Python 3 (ipykernel)",
   "language": "python",
   "name": "python3"
  },
  "language_info": {
   "codemirror_mode": {
    "name": "ipython",
    "version": 3
   },
   "file_extension": ".py",
   "mimetype": "text/x-python",
   "name": "python",
   "nbconvert_exporter": "python",
   "pygments_lexer": "ipython3",
   "version": "3.12.7"
  }
 },
 "nbformat": 4,
 "nbformat_minor": 5
}
