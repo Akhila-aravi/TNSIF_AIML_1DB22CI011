{
 "cells": [
  {
   "cell_type": "code",
   "execution_count": 2,
   "id": "c27b0cb6-62fc-44f2-94f7-9a101cad0648",
   "metadata": {},
   "outputs": [
    {
     "name": "stdout",
     "output_type": "stream",
     "text": [
      "Enter 10 elements\n"
     ]
    },
    {
     "name": "stdin",
     "output_type": "stream",
     "text": [
      "enterelement0: 3\n",
      "enterelement1: 5\n",
      "enterelement2: 6\n",
      "enterelement3: 7\n",
      "enterelement4: 4\n",
      "enterelement5: 8\n",
      "enterelement6: 7\n",
      "enterelement7: 2\n",
      "enterelement8: 5\n",
      "enterelement9: 6\n"
     ]
    },
    {
     "name": "stdout",
     "output_type": "stream",
     "text": [
      "List [3, 5, 6, 7, 4, 8, 7, 2, 5, 6]\n",
      "List after removing [4, 8, 2, 6]\n"
     ]
    }
   ],
   "source": [
    "# Accept a list with numbers having 10 elements. Remove the third element and all odd elements.\n",
    "l1=[]\n",
    "l2=[]\n",
    "print(\"Enter 10 elements\")\n",
    "for i in range(10):\n",
    "    s='enterelement'+str(i)+':'\n",
    "    ele=int(input(s))\n",
    "    l1=l1+[ele]\n",
    "print(\"List\",l1)\n",
    "l1.pop(2)\n",
    "for i in range(9):\n",
    "    if l1[i]%2==0:\n",
    "        l2.append(l1[i])\n",
    "print(\"List after removing\",l2)"
   ]
  },
  {
   "cell_type": "code",
   "execution_count": 3,
   "id": "8d82d626-f46a-4b66-8fc8-dfc3ec16cabd",
   "metadata": {},
   "outputs": [
    {
     "data": {
      "text/plain": [
       "[20, 21, 22, 23, 24]"
      ]
     },
     "execution_count": 3,
     "metadata": {},
     "output_type": "execute_result"
    }
   ],
   "source": [
    "li=list(range(20,25))\n",
    "li"
   ]
  },
  {
   "cell_type": "code",
   "execution_count": 4,
   "id": "cf257733-19ca-4d95-ab0a-116f108f2e97",
   "metadata": {},
   "outputs": [
    {
     "data": {
      "text/plain": [
       "[24, 23, 22, 21, 20]"
      ]
     },
     "execution_count": 4,
     "metadata": {},
     "output_type": "execute_result"
    }
   ],
   "source": [
    "li.reverse()\n",
    "li"
   ]
  },
  {
   "cell_type": "code",
   "execution_count": 5,
   "id": "c8ad0eba-4597-4f2e-ab07-739e44e8caaa",
   "metadata": {},
   "outputs": [
    {
     "data": {
      "text/plain": [
       "[34, 32, 56, 78, 12]"
      ]
     },
     "execution_count": 5,
     "metadata": {},
     "output_type": "execute_result"
    }
   ],
   "source": [
    "li1=[34,32,56,78,12]\n",
    "li1"
   ]
  },
  {
   "cell_type": "code",
   "execution_count": 6,
   "id": "04ffebdc-ec33-42f7-99ac-dea32ac281e1",
   "metadata": {},
   "outputs": [
    {
     "data": {
      "text/plain": [
       "[12, 32, 34, 56, 78]"
      ]
     },
     "execution_count": 6,
     "metadata": {},
     "output_type": "execute_result"
    }
   ],
   "source": [
    "li1.sort()\n",
    "li1"
   ]
  },
  {
   "cell_type": "code",
   "execution_count": 7,
   "id": "bc400908-3dc8-48d6-b7f0-467d9e5200eb",
   "metadata": {},
   "outputs": [
    {
     "data": {
      "text/plain": [
       "['p', 'd', 'a', 'f', 'a', 'n']"
      ]
     },
     "execution_count": 7,
     "metadata": {},
     "output_type": "execute_result"
    }
   ],
   "source": [
    "k=['a','p','d','a','f','a','n']\n",
    "k.remove('a')  #only first occurance of 'a' is removed\n",
    "k"
   ]
  },
  {
   "cell_type": "code",
   "execution_count": 8,
   "id": "5d1beff8-1a5d-4f73-9196-e54f12970c08",
   "metadata": {},
   "outputs": [
    {
     "data": {
      "text/plain": [
       "['n', 'a', 'f', 'a', 'd', 'p']"
      ]
     },
     "execution_count": 8,
     "metadata": {},
     "output_type": "execute_result"
    }
   ],
   "source": [
    "k.reverse()\n",
    "k"
   ]
  },
  {
   "cell_type": "code",
   "execution_count": 9,
   "id": "918a2a87-8353-4c75-9974-4f8aa2bc5d53",
   "metadata": {},
   "outputs": [
    {
     "data": {
      "text/plain": [
       "['n', 'f', 'a', 'd', 'p']"
      ]
     },
     "execution_count": 9,
     "metadata": {},
     "output_type": "execute_result"
    }
   ],
   "source": [
    "k.remove('a')\n",
    "k"
   ]
  },
  {
   "cell_type": "code",
   "execution_count": 10,
   "id": "4832e092-413f-4e7e-81c1-a6560fa2c9a9",
   "metadata": {},
   "outputs": [
    {
     "data": {
      "text/plain": [
       "{1: 'one', 2: 'two', 3: 'three'}"
      ]
     },
     "execution_count": 10,
     "metadata": {},
     "output_type": "execute_result"
    }
   ],
   "source": [
    "#Dictionaries\n",
    "a={1:\"one\",2:\"two\",3:\"three\"}\n",
    "a"
   ]
  },
  {
   "cell_type": "code",
   "execution_count": 11,
   "id": "07628a5b-84a5-4897-bebc-bbc65bdc1e9d",
   "metadata": {},
   "outputs": [
    {
     "data": {
      "text/plain": [
       "dict_values(['one', 'two', 'three'])"
      ]
     },
     "execution_count": 11,
     "metadata": {},
     "output_type": "execute_result"
    }
   ],
   "source": [
    "a1=a.values()\n",
    "a1"
   ]
  },
  {
   "cell_type": "code",
   "execution_count": null,
   "id": "bacb8814-f8d9-4da3-84a9-f9ad6170f0c5",
   "metadata": {},
   "outputs": [],
   "source": []
  }
 ],
 "metadata": {
  "kernelspec": {
   "display_name": "Python 3 (ipykernel)",
   "language": "python",
   "name": "python3"
  },
  "language_info": {
   "codemirror_mode": {
    "name": "ipython",
    "version": 3
   },
   "file_extension": ".py",
   "mimetype": "text/x-python",
   "name": "python",
   "nbconvert_exporter": "python",
   "pygments_lexer": "ipython3",
   "version": "3.12.7"
  }
 },
 "nbformat": 4,
 "nbformat_minor": 5
}
