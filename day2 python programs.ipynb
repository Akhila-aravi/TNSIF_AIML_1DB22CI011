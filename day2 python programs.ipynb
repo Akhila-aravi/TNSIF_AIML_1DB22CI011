{
 "cells": [
  {
   "cell_type": "code",
   "execution_count": 1,
   "id": "4ed3d313-4180-49e1-ad0a-d03b57b2fa88",
   "metadata": {},
   "outputs": [
    {
     "name": "stdin",
     "output_type": "stream",
     "text": [
      "Enter a number:  67\n"
     ]
    },
    {
     "name": "stdout",
     "output_type": "stream",
     "text": [
      "Current sum:67\n"
     ]
    },
    {
     "name": "stdin",
     "output_type": "stream",
     "text": [
      "Enter a number:  57\n"
     ]
    },
    {
     "name": "stdout",
     "output_type": "stream",
     "text": [
      "Current sum:124\n"
     ]
    },
    {
     "name": "stdin",
     "output_type": "stream",
     "text": [
      "Enter a number:  89\n"
     ]
    },
    {
     "name": "stdout",
     "output_type": "stream",
     "text": [
      "Current sum:213\n"
     ]
    },
    {
     "name": "stdin",
     "output_type": "stream",
     "text": [
      "Enter a number:  46\n"
     ]
    },
    {
     "name": "stdout",
     "output_type": "stream",
     "text": [
      "Current sum:259\n"
     ]
    },
    {
     "name": "stdin",
     "output_type": "stream",
     "text": [
      "Enter a number:  100\n"
     ]
    },
    {
     "name": "stdout",
     "output_type": "stream",
     "text": [
      "Current sum:359\n",
      "Sum has exceeded 300\n"
     ]
    }
   ],
   "source": [
    "#accept number from user and print sum which doesnt exceed 300\n",
    "sum = 0\n",
    "while True:\n",
    "    num = int(input(\"Enter a number: \"))\n",
    "    sum += num \n",
    "    print(f\"Current sum:{sum}\")\n",
    "    if sum >= 300:\n",
    "        print(\"Sum has exceeded 300\")\n",
    "        break"
   ]
  },
  {
   "cell_type": "code",
   "execution_count": 1,
   "id": "34c455a1-b061-487e-af17-dda798857f06",
   "metadata": {},
   "outputs": [
    {
     "name": "stdin",
     "output_type": "stream",
     "text": [
      "Enter the string fog\n",
      "Enter the string hig\n",
      "Enter the string Bon\n"
     ]
    },
    {
     "name": "stdout",
     "output_type": "stream",
     "text": [
      "Voyage\n"
     ]
    }
   ],
   "source": [
    "#when user enters Bon,Voyage has to be printed\n",
    "while True:\n",
    "    s = input(\"Enter the string\")\n",
    "    if s == \"Bon\":\n",
    "        print(\"Voyage\")\n",
    "        break"
   ]
  },
  {
   "cell_type": "code",
   "execution_count": 3,
   "id": "ac104b4c-724a-4536-8e16-bb1de2acf0c0",
   "metadata": {},
   "outputs": [
    {
     "name": "stdin",
     "output_type": "stream",
     "text": [
      "Enter your name:  ammu\n"
     ]
    },
    {
     "name": "stdout",
     "output_type": "stream",
     "text": [
      "m\n",
      "m\n"
     ]
    }
   ],
   "source": [
    "#accept name from user and print consonents\n",
    "n = input(\"Enter your name: \")\n",
    "for i in n:\n",
    "    if i=='a' or i=='e' or i=='i' or i=='o' or i=='u':\n",
    "        continue\n",
    "    else:\n",
    "        print(i)"
   ]
  },
  {
   "cell_type": "code",
   "execution_count": 4,
   "id": "19ae45c3-ddea-4842-b3b6-25bd69d670a7",
   "metadata": {},
   "outputs": [
    {
     "name": "stdin",
     "output_type": "stream",
     "text": [
      "Enter item 1:  tyj\n",
      "Enter item 2:  khdfk\n",
      "Enter item 3:  jhh\n",
      "Enter item 4:  jf\n",
      "Enter item 5:  jkhl\n",
      "Enter your name:  jho\n"
     ]
    },
    {
     "name": "stdout",
     "output_type": "stream",
     "text": [
      "Updated list: ['tyj', 'khdfk', 'jho', 'jf', 'jho']\n"
     ]
    }
   ],
   "source": [
    "#in the usser entered 5 lists,3rd and 5th elements have to be replaced by user entered name\n",
    "lst = []\n",
    "for i in range(5):\n",
    "    element = input(f\"Enter item {i+1}: \")\n",
    "    lst.append(element)\n",
    "name = input(\"Enter your name: \")\n",
    "lst[2] = name\n",
    "lst[4] = name\n",
    "print(\"Updated list:\", lst)"
   ]
  },
  {
   "cell_type": "code",
   "execution_count": 5,
   "id": "9db055d8-86ab-47f5-bb82-1f46832f3585",
   "metadata": {},
   "outputs": [
    {
     "data": {
      "text/plain": [
       "[20, 21, 22, 23, 24]"
      ]
     },
     "execution_count": 5,
     "metadata": {},
     "output_type": "execute_result"
    }
   ],
   "source": [
    "li=list(range(20,25))\n",
    "li"
   ]
  },
  {
   "cell_type": "code",
   "execution_count": 6,
   "id": "a6511a0b-3442-4c4a-9ed3-d75a0c45067a",
   "metadata": {},
   "outputs": [
    {
     "data": {
      "text/plain": [
       "[20, 21, 22, 23, 24, 26]"
      ]
     },
     "execution_count": 6,
     "metadata": {},
     "output_type": "execute_result"
    }
   ],
   "source": [
    "li.append(26)\n",
    "li"
   ]
  },
  {
   "cell_type": "code",
   "execution_count": 7,
   "id": "1c904ea2-10a4-46ab-9195-545c4ad3e5e9",
   "metadata": {},
   "outputs": [
    {
     "data": {
      "text/plain": [
       "[20, 21, 100, 23, 24, 26]"
      ]
     },
     "execution_count": 7,
     "metadata": {},
     "output_type": "execute_result"
    }
   ],
   "source": [
    "li[2]=100\n",
    "li"
   ]
  },
  {
   "cell_type": "code",
   "execution_count": 8,
   "id": "d0a639e0-9eca-4c0c-9b1d-b129d8985b9a",
   "metadata": {},
   "outputs": [
    {
     "data": {
      "text/plain": [
       "23"
      ]
     },
     "execution_count": 8,
     "metadata": {},
     "output_type": "execute_result"
    }
   ],
   "source": [
    "li[3]"
   ]
  },
  {
   "cell_type": "code",
   "execution_count": 9,
   "id": "8d55e578-e201-476c-a472-3d0742b643d1",
   "metadata": {},
   "outputs": [
    {
     "data": {
      "text/plain": [
       "[20, 0, 21, 100, 23, 24, 26]"
      ]
     },
     "execution_count": 9,
     "metadata": {},
     "output_type": "execute_result"
    }
   ],
   "source": [
    "li.insert(1,0)\n",
    "li"
   ]
  },
  {
   "cell_type": "code",
   "execution_count": 10,
   "id": "abc016f7-95f6-4a8e-b870-c4b6bba6c896",
   "metadata": {},
   "outputs": [
    {
     "data": {
      "text/plain": [
       "[20, 21, 100, 23, 24, 26]"
      ]
     },
     "execution_count": 10,
     "metadata": {},
     "output_type": "execute_result"
    }
   ],
   "source": [
    "li\n",
    "del li[1]\n",
    "li"
   ]
  },
  {
   "cell_type": "code",
   "execution_count": 11,
   "id": "fa3b8a19-c516-44a2-bcb8-c5a05e8032fb",
   "metadata": {},
   "outputs": [
    {
     "data": {
      "text/plain": [
       "[20, 21, 100, 23, 24]"
      ]
     },
     "execution_count": 11,
     "metadata": {},
     "output_type": "execute_result"
    }
   ],
   "source": [
    "li.pop()\n",
    "li\n",
    "#integers can only be deleted..without entering anything in () LAST element is deleted"
   ]
  },
  {
   "cell_type": "code",
   "execution_count": 12,
   "id": "1501a535-6d6e-4c51-a917-94b412ed7804",
   "metadata": {},
   "outputs": [
    {
     "data": {
      "text/plain": [
       "['red', 'blue']"
      ]
     },
     "execution_count": 12,
     "metadata": {},
     "output_type": "execute_result"
    }
   ],
   "source": [
    "li1=['red','blue']\n",
    "li1"
   ]
  },
  {
   "cell_type": "code",
   "execution_count": 13,
   "id": "2b9bb878-8fd7-499a-aaa4-3b1ec5365dcc",
   "metadata": {},
   "outputs": [
    {
     "data": {
      "text/plain": [
       "['blue']"
      ]
     },
     "execution_count": 13,
     "metadata": {},
     "output_type": "execute_result"
    }
   ],
   "source": [
    "li1.remove('red')\n",
    "li1\n",
    "#remove string from list"
   ]
  },
  {
   "cell_type": "code",
   "execution_count": null,
   "id": "4d4e966d-740a-44f7-93ca-886faf60a14a",
   "metadata": {},
   "outputs": [],
   "source": []
  }
 ],
 "metadata": {
  "kernelspec": {
   "display_name": "Python 3 (ipykernel)",
   "language": "python",
   "name": "python3"
  },
  "language_info": {
   "codemirror_mode": {
    "name": "ipython",
    "version": 3
   },
   "file_extension": ".py",
   "mimetype": "text/x-python",
   "name": "python",
   "nbconvert_exporter": "python",
   "pygments_lexer": "ipython3",
   "version": "3.12.7"
  }
 },
 "nbformat": 4,
 "nbformat_minor": 5
}
